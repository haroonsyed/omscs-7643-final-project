{
 "cells": [
  {
   "cell_type": "code",
   "execution_count": 39,
   "id": "e7afdf52",
   "metadata": {},
   "outputs": [],
   "source": [
    "# Pytorch package\n",
    "import torch\n",
    "import torch.nn as nn\n",
    "import torch.optim as optim\n",
    "import torchvision.transforms as transforms\n",
    "\n",
    "import seaborn as sns\n",
    "from sklearn.metrics import confusion_matrix, classification_report\n",
    "\n",
    "from torch.utils.data import Dataset, DataLoader\n",
    "from collections import Counter\n",
    "from torch.nn.utils.rnn import pad_sequence\n",
    "import os\n",
    "import numpy as np\n",
    "from plotly import graph_objects as go\n",
    "import plotly.express as px\n",
    "from PIL import Image\n",
    "import matplotlib.pyplot as plt\n",
    "import pandas as pd\n",
    "import math\n",
    "from torchvision import models, datasets # For pre-trained models (for transfer learning)\n"
   ]
  },
  {
   "cell_type": "code",
   "execution_count": 2,
   "id": "945fd4a6",
   "metadata": {},
   "outputs": [
    {
     "name": "stdout",
     "output_type": "stream",
     "text": [
      "You are using device: cuda\n"
     ]
    }
   ],
   "source": [
    "# Check device availability\n",
    "device = torch.device('cuda' if torch.cuda.is_available() else 'cpu')\n",
    "print(\"You are using device: %s\" % device)"
   ]
  },
  {
   "cell_type": "markdown",
   "id": "9952bd79",
   "metadata": {},
   "source": [
    "## Hyperparameter List"
   ]
  },
  {
   "cell_type": "code",
   "execution_count": 3,
   "id": "6024b4a5",
   "metadata": {},
   "outputs": [],
   "source": [
    "TARRGET_SIZE = (224, 224) # what size we want to reshape to for data augmentation (see below)\n",
    "BATCH_SIZE = 32"
   ]
  },
  {
   "cell_type": "markdown",
   "id": "ca4140d5",
   "metadata": {},
   "source": [
    "## Data Exploration, Visualization, Pre-Processing\n",
    "\n"
   ]
  },
  {
   "cell_type": "code",
   "execution_count": 4,
   "id": "5d0847a6",
   "metadata": {},
   "outputs": [],
   "source": [
    "def load_dataset_dataframes():\n",
    "  test_array = []\n",
    "  train_array = []\n",
    "\n",
    "  for category in os.listdir('Testing'):\n",
    "    for file in os.listdir(os.path.join('Testing', category)):\n",
    "        # Ensure we're only adding image files\n",
    "        file_path = os.path.join('Testing', category, file)\n",
    "        if os.path.isfile(file_path) and file.lower().endswith(('.png', '.jpg', '.jpeg')):\n",
    "          test_array.append([file_path, category])\n",
    "\n",
    "  test_dataframe = pd.DataFrame(test_array, columns=['file_path', 'label'])\n",
    "          \n",
    "  for category in os.listdir('Training'):\n",
    "    for file in os.listdir(os.path.join('Training', category)):\n",
    "        # Ensure we're only adding image files\n",
    "        file_path = os.path.join('Training', category, file)\n",
    "        if os.path.isfile(file_path) and file.lower().endswith(('.png', '.jpg', '.jpeg')):\n",
    "          train_array.append([file_path, category])\n",
    "  \n",
    "  train_dataframe = pd.DataFrame(train_array, columns=['file_path', 'label'])\n",
    "        \n",
    "  return test_dataframe, train_dataframe\n",
    "\n",
    "def load_image(image_path):\n",
    "  image = Image.open(image_path)\n",
    "  image = image.resize((64, 64))\n",
    "  image = np.array(image)\n",
    "  image = torch.from_numpy(image).float()\n",
    "  return image"
   ]
  },
  {
   "cell_type": "markdown",
   "id": "c7f5277b",
   "metadata": {},
   "source": [
    "### Exploring the Data"
   ]
  },
  {
   "cell_type": "code",
   "execution_count": 5,
   "id": "bb054336",
   "metadata": {},
   "outputs": [
    {
     "data": {
      "text/plain": [
       "'Training/pituitary/Tr-pi_0692.jpg'"
      ]
     },
     "metadata": {},
     "output_type": "display_data"
    },
    {
     "data": {
      "application/vnd.plotly.v1+json": {
       "config": {
        "plotlyServerURL": "https://plot.ly"
       },
       "data": [
        {
         "hovertemplate": "x: %{x}<br>y: %{y}<br>color: [%{z[0]}, %{z[1]}, %{z[2]}]<extra></extra>",
         "name": "0",
         "source": "data:image/png;base64,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",
         "type": "image",
         "xaxis": "x",
         "yaxis": "y"
        }
       ],
       "layout": {
        "margin": {
         "t": 60
        },
        "template": {
         "data": {
          "bar": [
           {
            "error_x": {
             "color": "#2a3f5f"
            },
            "error_y": {
             "color": "#2a3f5f"
            },
            "marker": {
             "line": {
              "color": "#E5ECF6",
              "width": 0.5
             },
             "pattern": {
              "fillmode": "overlay",
              "size": 10,
              "solidity": 0.2
             }
            },
            "type": "bar"
           }
          ],
          "barpolar": [
           {
            "marker": {
             "line": {
              "color": "#E5ECF6",
              "width": 0.5
             },
             "pattern": {
              "fillmode": "overlay",
              "size": 10,
              "solidity": 0.2
             }
            },
            "type": "barpolar"
           }
          ],
          "carpet": [
           {
            "aaxis": {
             "endlinecolor": "#2a3f5f",
             "gridcolor": "white",
             "linecolor": "white",
             "minorgridcolor": "white",
             "startlinecolor": "#2a3f5f"
            },
            "baxis": {
             "endlinecolor": "#2a3f5f",
             "gridcolor": "white",
             "linecolor": "white",
             "minorgridcolor": "white",
             "startlinecolor": "#2a3f5f"
            },
            "type": "carpet"
           }
          ],
          "choropleth": [
           {
            "colorbar": {
             "outlinewidth": 0,
             "ticks": ""
            },
            "type": "choropleth"
           }
          ],
          "contour": [
           {
            "colorbar": {
             "outlinewidth": 0,
             "ticks": ""
            },
            "colorscale": [
             [
              0,
              "#0d0887"
             ],
             [
              0.1111111111111111,
              "#46039f"
             ],
             [
              0.2222222222222222,
              "#7201a8"
             ],
             [
              0.3333333333333333,
              "#9c179e"
             ],
             [
              0.4444444444444444,
              "#bd3786"
             ],
             [
              0.5555555555555556,
              "#d8576b"
             ],
             [
              0.6666666666666666,
              "#ed7953"
             ],
             [
              0.7777777777777778,
              "#fb9f3a"
             ],
             [
              0.8888888888888888,
              "#fdca26"
             ],
             [
              1,
              "#f0f921"
             ]
            ],
            "type": "contour"
           }
          ],
          "contourcarpet": [
           {
            "colorbar": {
             "outlinewidth": 0,
             "ticks": ""
            },
            "type": "contourcarpet"
           }
          ],
          "heatmap": [
           {
            "colorbar": {
             "outlinewidth": 0,
             "ticks": ""
            },
            "colorscale": [
             [
              0,
              "#0d0887"
             ],
             [
              0.1111111111111111,
              "#46039f"
             ],
             [
              0.2222222222222222,
              "#7201a8"
             ],
             [
              0.3333333333333333,
              "#9c179e"
             ],
             [
              0.4444444444444444,
              "#bd3786"
             ],
             [
              0.5555555555555556,
              "#d8576b"
             ],
             [
              0.6666666666666666,
              "#ed7953"
             ],
             [
              0.7777777777777778,
              "#fb9f3a"
             ],
             [
              0.8888888888888888,
              "#fdca26"
             ],
             [
              1,
              "#f0f921"
             ]
            ],
            "type": "heatmap"
           }
          ],
          "histogram": [
           {
            "marker": {
             "pattern": {
              "fillmode": "overlay",
              "size": 10,
              "solidity": 0.2
             }
            },
            "type": "histogram"
           }
          ],
          "histogram2d": [
           {
            "colorbar": {
             "outlinewidth": 0,
             "ticks": ""
            },
            "colorscale": [
             [
              0,
              "#0d0887"
             ],
             [
              0.1111111111111111,
              "#46039f"
             ],
             [
              0.2222222222222222,
              "#7201a8"
             ],
             [
              0.3333333333333333,
              "#9c179e"
             ],
             [
              0.4444444444444444,
              "#bd3786"
             ],
             [
              0.5555555555555556,
              "#d8576b"
             ],
             [
              0.6666666666666666,
              "#ed7953"
             ],
             [
              0.7777777777777778,
              "#fb9f3a"
             ],
             [
              0.8888888888888888,
              "#fdca26"
             ],
             [
              1,
              "#f0f921"
             ]
            ],
            "type": "histogram2d"
           }
          ],
          "histogram2dcontour": [
           {
            "colorbar": {
             "outlinewidth": 0,
             "ticks": ""
            },
            "colorscale": [
             [
              0,
              "#0d0887"
             ],
             [
              0.1111111111111111,
              "#46039f"
             ],
             [
              0.2222222222222222,
              "#7201a8"
             ],
             [
              0.3333333333333333,
              "#9c179e"
             ],
             [
              0.4444444444444444,
              "#bd3786"
             ],
             [
              0.5555555555555556,
              "#d8576b"
             ],
             [
              0.6666666666666666,
              "#ed7953"
             ],
             [
              0.7777777777777778,
              "#fb9f3a"
             ],
             [
              0.8888888888888888,
              "#fdca26"
             ],
             [
              1,
              "#f0f921"
             ]
            ],
            "type": "histogram2dcontour"
           }
          ],
          "mesh3d": [
           {
            "colorbar": {
             "outlinewidth": 0,
             "ticks": ""
            },
            "type": "mesh3d"
           }
          ],
          "parcoords": [
           {
            "line": {
             "colorbar": {
              "outlinewidth": 0,
              "ticks": ""
             }
            },
            "type": "parcoords"
           }
          ],
          "pie": [
           {
            "automargin": true,
            "type": "pie"
           }
          ],
          "scatter": [
           {
            "fillpattern": {
             "fillmode": "overlay",
             "size": 10,
             "solidity": 0.2
            },
            "type": "scatter"
           }
          ],
          "scatter3d": [
           {
            "line": {
             "colorbar": {
              "outlinewidth": 0,
              "ticks": ""
             }
            },
            "marker": {
             "colorbar": {
              "outlinewidth": 0,
              "ticks": ""
             }
            },
            "type": "scatter3d"
           }
          ],
          "scattercarpet": [
           {
            "marker": {
             "colorbar": {
              "outlinewidth": 0,
              "ticks": ""
             }
            },
            "type": "scattercarpet"
           }
          ],
          "scattergeo": [
           {
            "marker": {
             "colorbar": {
              "outlinewidth": 0,
              "ticks": ""
             }
            },
            "type": "scattergeo"
           }
          ],
          "scattergl": [
           {
            "marker": {
             "colorbar": {
              "outlinewidth": 0,
              "ticks": ""
             }
            },
            "type": "scattergl"
           }
          ],
          "scattermap": [
           {
            "marker": {
             "colorbar": {
              "outlinewidth": 0,
              "ticks": ""
             }
            },
            "type": "scattermap"
           }
          ],
          "scattermapbox": [
           {
            "marker": {
             "colorbar": {
              "outlinewidth": 0,
              "ticks": ""
             }
            },
            "type": "scattermapbox"
           }
          ],
          "scatterpolar": [
           {
            "marker": {
             "colorbar": {
              "outlinewidth": 0,
              "ticks": ""
             }
            },
            "type": "scatterpolar"
           }
          ],
          "scatterpolargl": [
           {
            "marker": {
             "colorbar": {
              "outlinewidth": 0,
              "ticks": ""
             }
            },
            "type": "scatterpolargl"
           }
          ],
          "scatterternary": [
           {
            "marker": {
             "colorbar": {
              "outlinewidth": 0,
              "ticks": ""
             }
            },
            "type": "scatterternary"
           }
          ],
          "surface": [
           {
            "colorbar": {
             "outlinewidth": 0,
             "ticks": ""
            },
            "colorscale": [
             [
              0,
              "#0d0887"
             ],
             [
              0.1111111111111111,
              "#46039f"
             ],
             [
              0.2222222222222222,
              "#7201a8"
             ],
             [
              0.3333333333333333,
              "#9c179e"
             ],
             [
              0.4444444444444444,
              "#bd3786"
             ],
             [
              0.5555555555555556,
              "#d8576b"
             ],
             [
              0.6666666666666666,
              "#ed7953"
             ],
             [
              0.7777777777777778,
              "#fb9f3a"
             ],
             [
              0.8888888888888888,
              "#fdca26"
             ],
             [
              1,
              "#f0f921"
             ]
            ],
            "type": "surface"
           }
          ],
          "table": [
           {
            "cells": {
             "fill": {
              "color": "#EBF0F8"
             },
             "line": {
              "color": "white"
             }
            },
            "header": {
             "fill": {
              "color": "#C8D4E3"
             },
             "line": {
              "color": "white"
             }
            },
            "type": "table"
           }
          ]
         },
         "layout": {
          "annotationdefaults": {
           "arrowcolor": "#2a3f5f",
           "arrowhead": 0,
           "arrowwidth": 1
          },
          "autotypenumbers": "strict",
          "coloraxis": {
           "colorbar": {
            "outlinewidth": 0,
            "ticks": ""
           }
          },
          "colorscale": {
           "diverging": [
            [
             0,
             "#8e0152"
            ],
            [
             0.1,
             "#c51b7d"
            ],
            [
             0.2,
             "#de77ae"
            ],
            [
             0.3,
             "#f1b6da"
            ],
            [
             0.4,
             "#fde0ef"
            ],
            [
             0.5,
             "#f7f7f7"
            ],
            [
             0.6,
             "#e6f5d0"
            ],
            [
             0.7,
             "#b8e186"
            ],
            [
             0.8,
             "#7fbc41"
            ],
            [
             0.9,
             "#4d9221"
            ],
            [
             1,
             "#276419"
            ]
           ],
           "sequential": [
            [
             0,
             "#0d0887"
            ],
            [
             0.1111111111111111,
             "#46039f"
            ],
            [
             0.2222222222222222,
             "#7201a8"
            ],
            [
             0.3333333333333333,
             "#9c179e"
            ],
            [
             0.4444444444444444,
             "#bd3786"
            ],
            [
             0.5555555555555556,
             "#d8576b"
            ],
            [
             0.6666666666666666,
             "#ed7953"
            ],
            [
             0.7777777777777778,
             "#fb9f3a"
            ],
            [
             0.8888888888888888,
             "#fdca26"
            ],
            [
             1,
             "#f0f921"
            ]
           ],
           "sequentialminus": [
            [
             0,
             "#0d0887"
            ],
            [
             0.1111111111111111,
             "#46039f"
            ],
            [
             0.2222222222222222,
             "#7201a8"
            ],
            [
             0.3333333333333333,
             "#9c179e"
            ],
            [
             0.4444444444444444,
             "#bd3786"
            ],
            [
             0.5555555555555556,
             "#d8576b"
            ],
            [
             0.6666666666666666,
             "#ed7953"
            ],
            [
             0.7777777777777778,
             "#fb9f3a"
            ],
            [
             0.8888888888888888,
             "#fdca26"
            ],
            [
             1,
             "#f0f921"
            ]
           ]
          },
          "colorway": [
           "#636efa",
           "#EF553B",
           "#00cc96",
           "#ab63fa",
           "#FFA15A",
           "#19d3f3",
           "#FF6692",
           "#B6E880",
           "#FF97FF",
           "#FECB52"
          ],
          "font": {
           "color": "#2a3f5f"
          },
          "geo": {
           "bgcolor": "white",
           "lakecolor": "white",
           "landcolor": "#E5ECF6",
           "showlakes": true,
           "showland": true,
           "subunitcolor": "white"
          },
          "hoverlabel": {
           "align": "left"
          },
          "hovermode": "closest",
          "mapbox": {
           "style": "light"
          },
          "paper_bgcolor": "white",
          "plot_bgcolor": "#E5ECF6",
          "polar": {
           "angularaxis": {
            "gridcolor": "white",
            "linecolor": "white",
            "ticks": ""
           },
           "bgcolor": "#E5ECF6",
           "radialaxis": {
            "gridcolor": "white",
            "linecolor": "white",
            "ticks": ""
           }
          },
          "scene": {
           "xaxis": {
            "backgroundcolor": "#E5ECF6",
            "gridcolor": "white",
            "gridwidth": 2,
            "linecolor": "white",
            "showbackground": true,
            "ticks": "",
            "zerolinecolor": "white"
           },
           "yaxis": {
            "backgroundcolor": "#E5ECF6",
            "gridcolor": "white",
            "gridwidth": 2,
            "linecolor": "white",
            "showbackground": true,
            "ticks": "",
            "zerolinecolor": "white"
           },
           "zaxis": {
            "backgroundcolor": "#E5ECF6",
            "gridcolor": "white",
            "gridwidth": 2,
            "linecolor": "white",
            "showbackground": true,
            "ticks": "",
            "zerolinecolor": "white"
           }
          },
          "shapedefaults": {
           "line": {
            "color": "#2a3f5f"
           }
          },
          "ternary": {
           "aaxis": {
            "gridcolor": "white",
            "linecolor": "white",
            "ticks": ""
           },
           "baxis": {
            "gridcolor": "white",
            "linecolor": "white",
            "ticks": ""
           },
           "bgcolor": "#E5ECF6",
           "caxis": {
            "gridcolor": "white",
            "linecolor": "white",
            "ticks": ""
           }
          },
          "title": {
           "x": 0.05
          },
          "xaxis": {
           "automargin": true,
           "gridcolor": "white",
           "linecolor": "white",
           "ticks": "",
           "title": {
            "standoff": 15
           },
           "zerolinecolor": "white",
           "zerolinewidth": 2
          },
          "yaxis": {
           "automargin": true,
           "gridcolor": "white",
           "linecolor": "white",
           "ticks": "",
           "title": {
            "standoff": 15
           },
           "zerolinecolor": "white",
           "zerolinewidth": 2
          }
         }
        },
        "xaxis": {
         "anchor": "y",
         "domain": [
          0,
          1
         ]
        },
        "yaxis": {
         "anchor": "x",
         "domain": [
          0,
          1
         ]
        }
       }
      }
     },
     "metadata": {},
     "output_type": "display_data"
    }
   ],
   "source": [
    "# Display a couple random samples (re-run to load a new image)\n",
    "train_dataframe, test_dataframe = load_dataset_dataframes()\n",
    "random_image_path = np.random.choice(test_dataframe['file_path'])\n",
    "random_image = load_image(random_image_path)\n",
    "display(random_image_path)\n",
    "px.imshow(random_image, color_continuous_scale='gray').show()"
   ]
  },
  {
   "cell_type": "code",
   "execution_count": 6,
   "id": "4dc8bdad",
   "metadata": {},
   "outputs": [],
   "source": [
    "# Plot the dataset\n",
    "def plot_dataset(dataset_type):\n",
    "\n",
    "    base_directory = os.getcwd()\n",
    "    categories = os.listdir(base_directory+'/'+dataset_type)\n",
    "\n",
    "    path = os.path.join(base_directory, dataset_type)\n",
    "    counts = [len(os.listdir(os.path.join(path, cat))) for cat in categories]\n",
    "\n",
    "    plt.bar(categories, counts, color = ['navy', 'teal', 'darkorange', 'crimson'])\n",
    "    plt.xlabel(\"Class\")\n",
    "    plt.ylabel(\"Number of Images\")\n",
    "    plt.title(f\"{dataset_type.capitalize()} Set Distribution\")\n",
    "    plt.show()\n"
   ]
  },
  {
   "cell_type": "code",
   "execution_count": 7,
   "id": "5b826803",
   "metadata": {},
   "outputs": [
    {
     "data": {
      "image/png": "[encoded data removed]",
      "text/plain": [
       "<Figure size 640x480 with 1 Axes>"
      ]
     },
     "metadata": {},
     "output_type": "display_data"
    },
    {
     "data": {
      "image/png": "[encoded data removed]",
      "text/plain": [
       "<Figure size 640x480 with 1 Axes>"
      ]
     },
     "metadata": {},
     "output_type": "display_data"
    }
   ],
   "source": [
    "plot_dataset('Training')\n",
    "plot_dataset('Testing')"
   ]
  },
  {
   "cell_type": "markdown",
   "id": "49acdb24",
   "metadata": {},
   "source": [
    "### Data Preprocessing"
   ]
  },
  {
   "cell_type": "code",
   "execution_count": 8,
   "id": "d7d354c8",
   "metadata": {},
   "outputs": [],
   "source": [
    "# Important!!!! Turn categories into numbers for use within neural networks\n",
    "\n",
    "label_map = {\n",
    "    'notumor': 0,        \n",
    "    'glioma': 1,         \n",
    "    'meningioma': 2,     \n",
    "    'pituitary': 3       \n",
    "}\n",
    "\n",
    "train_dataframe['label'] = train_dataframe['label'].map(label_map)\n",
    "test_dataframe['label'] = test_dataframe['label'].map(label_map)"
   ]
  },
  {
   "cell_type": "code",
   "execution_count": 9,
   "id": "95761ff7",
   "metadata": {},
   "outputs": [
    {
     "name": "stdout",
     "output_type": "stream",
     "text": [
      "                               file_path  label\n",
      "0     Testing/pituitary/Te-piTr_0002.jpg      3\n",
      "1       Testing/pituitary/Te-pi_0101.jpg      3\n",
      "2       Testing/pituitary/Te-pi_0218.jpg      3\n",
      "3       Testing/pituitary/Te-pi_0138.jpg      3\n",
      "4       Testing/pituitary/Te-pi_0177.jpg      3\n",
      "...                                  ...    ...\n",
      "1306       Testing/glioma/Te-gl_0216.jpg      1\n",
      "1307       Testing/glioma/Te-gl_0257.jpg      1\n",
      "1308       Testing/glioma/Te-gl_0194.jpg      1\n",
      "1309       Testing/glioma/Te-gl_0050.jpg      1\n",
      "1310       Testing/glioma/Te-gl_0221.jpg      1\n",
      "\n",
      "[1311 rows x 2 columns]\n"
     ]
    }
   ],
   "source": [
    "print(train_dataframe)"
   ]
  },
  {
   "cell_type": "markdown",
   "id": "d5b3cda7",
   "metadata": {},
   "source": [
    "### Splitting into train, validation, and test sets"
   ]
  },
  {
   "cell_type": "code",
   "execution_count": 11,
   "id": "48d4c48d",
   "metadata": {},
   "outputs": [
    {
     "name": "stdout",
     "output_type": "stream",
     "text": [
      "11424\n",
      "5712\n",
      "5712\n"
     ]
    }
   ],
   "source": [
    "def split_test_validation(data, ratio=0.50):\n",
    "\n",
    "    # if the list isn't divisble by 50%...\n",
    "    split_index_test = math.ceil(len(data) * ratio)\n",
    "\n",
    "\n",
    "    test_df = data[:split_index_test]\n",
    "    val_df = data[split_index_test:]\n",
    "\n",
    "    return test_df, val_df\n",
    "\n",
    "\n",
    "\n",
    "\n",
    "\n",
    "test_df_split, val_df_split = split_test_validation(test_dataframe, ratio=0.5)\n",
    "# Reset indices for consistency (instead of index starting from halfway, it'll start from 0)\n",
    "test_df_split = test_df_split.reset_index(drop=True)\n",
    "val_df_split = val_df_split.reset_index(drop=True)\n",
    "\n",
    "\n",
    "print(test_dataframe.size)\n",
    "print(test_df_split.size)\n",
    "print(val_df_split.size)"
   ]
  },
  {
   "cell_type": "code",
   "execution_count": 12,
   "id": "a77b7545",
   "metadata": {},
   "outputs": [
    {
     "name": "stdout",
     "output_type": "stream",
     "text": [
      "11424\n",
      "5712\n",
      "5712\n"
     ]
    }
   ],
   "source": [
    "## Making sure everything makes sense\n",
    "print(test_dataframe.size)\n",
    "print(test_df_split.size)\n",
    "print(val_df_split.size)"
   ]
  },
  {
   "cell_type": "markdown",
   "id": "5c512321",
   "metadata": {},
   "source": [
    "### Create Class ImageDataset\n",
    "##### Inherits from Pytorch's \"Dataset\" class, can be used to load Data"
   ]
  },
  {
   "cell_type": "code",
   "execution_count": 13,
   "id": "70cc4f11",
   "metadata": {},
   "outputs": [],
   "source": [
    "class ImageDataset(Dataset):\n",
    "    def __init__(self, dataframe, transform=None):\n",
    "        self.dataframe = dataframe\n",
    "        self.transform = transform\n",
    "        \n",
    "    def __len__(self):\n",
    "        return len(self.dataframe)\n",
    "\n",
    "    def __getitem__(self, idx):\n",
    "        img_path = self.dataframe.iloc[idx, 0]\n",
    "        label = self.dataframe.iloc[idx, 1]\n",
    "        img = Image.open(img_path).convert('RGB')  \n",
    "\n",
    "        if self.transform:\n",
    "            img = self.transform(img)\n",
    "            \n",
    "        return img, label"
   ]
  },
  {
   "cell_type": "markdown",
   "id": "551430c3",
   "metadata": {},
   "source": [
    "### Data Augmentation"
   ]
  },
  {
   "cell_type": "code",
   "execution_count": 14,
   "id": "4b2773e7",
   "metadata": {},
   "outputs": [],
   "source": [
    "train_transform = transforms.Compose([\n",
    "\n",
    "   transforms.Resize(TARRGET_SIZE),\n",
    "   transforms.RandomHorizontalFlip(),\n",
    "   transforms.RandomAffine(degrees=0, translate=(0.1, 0.1)),\n",
    "   transforms.ColorJitter(brightness=(0.8, 1.2)),\n",
    "   transforms.RandomRotation(10),\n",
    "   transforms.ToTensor(),\n",
    "   transforms.Normalize(mean=[0.485, 0.456, 0.406], std=[0.229, 0.224, 0.225])\n",
    "])\n",
    "\n",
    "test_transform = transforms.Compose([\n",
    "    transforms.Resize((224,224)),\n",
    "    transforms.ToTensor(),\n",
    "    transforms.Normalize(mean=[0.485, 0.456, 0.406], std=[0.229, 0.224, 0.225])\n",
    "])"
   ]
  },
  {
   "cell_type": "code",
   "execution_count": 15,
   "id": "f6db2a1c",
   "metadata": {},
   "outputs": [],
   "source": [
    "# Apply Data Augmentation\n",
    "\n",
    "final_train_dataset = ImageDataset(train_dataframe, transform=train_transform)\n",
    "final_val_dataset = ImageDataset(val_df_split, transform=test_transform)\n",
    "final_test_dataset = ImageDataset(test_df_split, transform=test_transform)\n",
    "\n",
    "\n",
    "# DataLoader\n",
    "\n",
    "train_loader = DataLoader(final_train_dataset, batch_size=BATCH_SIZE, shuffle=True)\n",
    "val_loader = DataLoader(final_val_dataset, batch_size=BATCH_SIZE, shuffle=False)\n",
    "test_loader = DataLoader(final_test_dataset, batch_size=BATCH_SIZE, shuffle=False)"
   ]
  },
  {
   "cell_type": "markdown",
   "id": "9e564fbb",
   "metadata": {},
   "source": [
    "## Train and Test Functions (used by all models)"
   ]
  },
  {
   "cell_type": "code",
   "execution_count": 40,
   "id": "4f81f8de",
   "metadata": {},
   "outputs": [],
   "source": [
    "base_directory = os.getcwd()\n",
    "categories = os.listdir(base_directory+'/Training')"
   ]
  },
  {
   "cell_type": "code",
   "execution_count": 41,
   "id": "4d34b917",
   "metadata": {},
   "outputs": [],
   "source": [
    "def train_model(model, train_loader, val_loader, criterion, optimizer, num_epochs=10, name='model', patience=7):\n",
    "    device = torch.device(\"cuda\" if torch.cuda.is_available() else \"cpu\")\n",
    "    model.to(device)\n",
    "    \n",
    "    best_val_loss = float(\"inf\")\n",
    "    tolerance = 0  # Counter for early stopping\n",
    "    history = {'train_loss': [], 'train_acc': [], 'val_loss': [], 'val_acc': []}\n",
    "\n",
    "    for epoch in range(num_epochs):\n",
    "        # Training phase\n",
    "        model.train()\n",
    "        running_loss = 0.0\n",
    "        correct_train = 0\n",
    "        total_train = 0\n",
    "        for images, labels in train_loader:\n",
    "            images, labels = images.to(device), labels.to(device)\n",
    "            optimizer.zero_grad()\n",
    "            outputs = model(images)\n",
    "            loss = criterion(outputs, labels)\n",
    "            loss.backward()\n",
    "            optimizer.step()\n",
    "            running_loss += loss.item()\n",
    "            _, predicted = torch.max(outputs, 1)\n",
    "            total_train += labels.size(0)\n",
    "            correct_train += (predicted == labels).sum().item()\n",
    "\n",
    "        train_loss = running_loss / len(train_loader)\n",
    "        train_acc = 100 * correct_train / total_train\n",
    "\n",
    "        # Validation phase\n",
    "        model.eval()\n",
    "        val_loss = 0.0\n",
    "        correct_val = 0\n",
    "        total_val = 0\n",
    "        with torch.no_grad():\n",
    "            for images, labels in val_loader:\n",
    "                images, labels = images.to(device), labels.to(device)\n",
    "                outputs = model(images)\n",
    "                loss = criterion(outputs, labels)\n",
    "                val_loss += loss.item()\n",
    "                _, predicted = torch.max(outputs, 1)\n",
    "                total_val += labels.size(0)\n",
    "                correct_val += (predicted == labels).sum().item()\n",
    "\n",
    "        val_loss = val_loss / len(val_loader)\n",
    "        val_acc = 100 * correct_val / total_val\n",
    "\n",
    "        history['train_loss'].append(train_loss)\n",
    "        history['train_acc'].append(train_acc)\n",
    "        history['val_loss'].append(val_loss)\n",
    "        history['val_acc'].append(val_acc)\n",
    "\n",
    "        print(f\"Epoch [{epoch+1}/{num_epochs}]\")\n",
    "        print(f\"Train Loss: {train_loss:.4f}, Train Accuracy: {train_acc:.2f}%\")\n",
    "        print(f\"Val Loss: {val_loss:.4f}, Val Accuracy: {val_acc:.2f}%\")\n",
    "        print(\"#\" * 80)\n",
    "\n",
    "        # Early stopping check\n",
    "        if val_loss < best_val_loss:\n",
    "            best_val_loss = val_loss\n",
    "            torch.save(model.state_dict(), f'best_brain_tumor_{name}.pth')\n",
    "            tolerance = 0  \n",
    "        else:\n",
    "            tolerance += 1\n",
    "            if tolerance >= patience:\n",
    "                print(f\"Early stopping triggered after {epoch+1} epochs.\")\n",
    "                break\n",
    "\n",
    "    return history"
   ]
  },
  {
   "cell_type": "code",
   "execution_count": 42,
   "id": "3cc0ed2d",
   "metadata": {},
   "outputs": [],
   "source": [
    "def test_model(model, test_loader, num_images_to_show=10):\n",
    "    device = torch.device(\"cuda\" if torch.cuda.is_available() else \"cpu\")\n",
    "    model.to(device)\n",
    "    model.eval()\n",
    "    \n",
    "    correct = 0\n",
    "    total = 0\n",
    "    \n",
    "    all_preds = []\n",
    "    all_labels = []\n",
    "    all_images = []\n",
    "\n",
    "    with torch.no_grad():\n",
    "        for images, labels in test_loader:\n",
    "            images, labels = images.to(device), labels.to(device)\n",
    "            outputs = model(images)\n",
    "            _, predicted = torch.max(outputs, 1)\n",
    "            total += labels.size(0)\n",
    "            correct += (predicted == labels).sum().item()\n",
    "            \n",
    "            # Collect for later analysis\n",
    "            all_preds.extend(predicted.cpu().numpy())\n",
    "            all_labels.extend(labels.cpu().numpy())\n",
    "            all_images.extend(images.cpu())  # Store images for visualization\n",
    "\n",
    "    test_acc = 100 * correct / total\n",
    "\n",
    "    # Compute confusion matrix\n",
    "    cm = confusion_matrix(all_labels, all_preds)\n",
    "\n",
    "    print(f\"Test Accuracy: {test_acc:.2f}%\\n\")\n",
    "    \n",
    "    # Print classification report\n",
    "    print(\"Classification Report:\\n\")\n",
    "    print(classification_report(all_labels, all_preds, target_names=categories))\n",
    "\n",
    "    # Plot confusion matrix\n",
    "    plt.figure(figsize=(8, 6))\n",
    "    sns.heatmap(cm, annot=True, fmt='d', cmap='Blues', \n",
    "                xticklabels=categories, yticklabels=categories)\n",
    "    plt.title('Confusion Matrix')\n",
    "    plt.xlabel('Predicted Label')\n",
    "    plt.ylabel('True Label')\n",
    "    plt.show()"
   ]
  },
  {
   "cell_type": "markdown",
   "id": "2ac070de",
   "metadata": {},
   "source": [
    "### Plots / Graphing Stuff"
   ]
  },
  {
   "cell_type": "code",
   "execution_count": 56,
   "id": "eca0219d",
   "metadata": {},
   "outputs": [],
   "source": [
    "def plot_training_history(history, model_name=\"model\"):\n",
    "    plt.figure(figsize=(12, 4))\n",
    "    plt.subplot(1, 2, 1)\n",
    "    plt.plot(history['train_loss'], label='Train Loss')\n",
    "    plt.plot(history['val_loss'], label='Val Loss')\n",
    "    plt.title(f'{model_name} Loss')\n",
    "    plt.xlabel('Epoch')\n",
    "    plt.ylabel('Loss')\n",
    "    plt.legend()\n",
    "    plt.subplot(1, 2, 2)\n",
    "    plt.plot(history['train_acc'], label='Train Acc')\n",
    "    plt.plot(history['val_acc'], label='Val Acc')\n",
    "    plt.title(f'{model_name} Accuracy')\n",
    "    plt.xlabel('Epoch')\n",
    "    plt.ylabel('Accuracy (%)')\n",
    "    plt.legend()\n",
    "    plt.show()"
   ]
  },
  {
   "cell_type": "code",
   "execution_count": 57,
   "id": "056de784",
   "metadata": {},
   "outputs": [],
   "source": [
    "def visualize_predictions(model, test_loader, num_images=10):\n",
    "    device = torch.device(\"cuda\" if torch.cuda.is_available() else \"cpu\")\n",
    "    model.to(device)\n",
    "    model.eval()\n",
    "\n",
    "    correct_images, incorrect_images = [], []\n",
    "    correct_labels, incorrect_labels = [], []\n",
    "    correct_preds, incorrect_preds = [], []\n",
    "\n",
    "    with torch.no_grad():\n",
    "        for images, labels in test_loader:\n",
    "            images, labels = images.to(device), labels.to(device)\n",
    "            outputs = model(images)\n",
    "            _, predicted = torch.max(outputs, 1)\n",
    "\n",
    "            # Separate correct and incorrect predictions\n",
    "            for i in range(len(predicted)):\n",
    "                if predicted[i] == labels[i]:\n",
    "                    correct_images.append(images[i])\n",
    "                    correct_labels.append(labels[i].cpu().item())\n",
    "                    correct_preds.append(predicted[i].cpu().item())\n",
    "                else:\n",
    "                    incorrect_images.append(images[i])\n",
    "                    incorrect_labels.append(labels[i].cpu().item())\n",
    "                    incorrect_preds.append(predicted[i].cpu().item())\n",
    "\n",
    "    # Visualization\n",
    "    # Unnormalize using your mean and std\n",
    "    mean = torch.tensor([0.485, 0.456, 0.406]).view(3, 1, 1).to(device)\n",
    "    std = torch.tensor([0.229, 0.224, 0.225]).view(3, 1, 1).to(device)\n",
    "\n",
    "    num_cols = num_images // 2\n",
    "    plt.figure(figsize=(15, 7))\n",
    "\n",
    "    # Display correct predictions\n",
    "    for i, img_tensor in enumerate(correct_images[:num_images // 2]):\n",
    "        img_tensor = img_tensor * std + mean  # reverse normalization\n",
    "        img = np.clip(img_tensor.permute(1, 2, 0).cpu().numpy(), 0, 1)\n",
    "        plt.subplot(2, num_cols, i + 1)\n",
    "        plt.imshow(img)\n",
    "        plt.title(f\"True: {categories[correct_labels[i]]}\\nPred: {categories[correct_preds[i]]}\", color='green', fontsize=15)\n",
    "        plt.axis('off')\n",
    "\n",
    "    # Display incorrect predictions\n",
    "    for i, img_tensor in enumerate(incorrect_images[:num_images // 2]):\n",
    "        if i >= len(incorrect_images):\n",
    "            plt.axis('off')\n",
    "            continue\n",
    "        img_tensor = img_tensor * std + mean  # reverse normalization\n",
    "        img = np.clip(img_tensor.permute(1, 2, 0).cpu().numpy(), 0, 1)\n",
    "        plt.subplot(2, num_cols, num_cols + i + 1)\n",
    "        plt.imshow(img)\n",
    "        plt.title(f\"True: {categories[incorrect_labels[i]]}\\nPred: {categories[incorrect_preds[i]]}\", color='red', fontsize=15)\n",
    "        plt.axis('off')\n",
    "\n",
    "    plt.tight_layout()\n",
    "    plt.show()"
   ]
  },
  {
   "cell_type": "markdown",
   "id": "ededca54",
   "metadata": {},
   "source": [
    "## (Model 1) Custom CNN"
   ]
  },
  {
   "cell_type": "code",
   "execution_count": null,
   "id": "05caf3c5",
   "metadata": {},
   "outputs": [],
   "source": []
  },
  {
   "cell_type": "markdown",
   "id": "a4d24c8f",
   "metadata": {},
   "source": [
    "## (Model 2) ResNet"
   ]
  },
  {
   "cell_type": "code",
   "execution_count": 51,
   "id": "7fda33b1",
   "metadata": {},
   "outputs": [
    {
     "name": "stderr",
     "output_type": "stream",
     "text": [
      "Downloading: \"https://download.pytorch.org/models/resnet18-f37072fd.pth\" to /home/zain13/.cache/torch/hub/checkpoints/resnet18-f37072fd.pth\n",
      "100%|██████████| 44.7M/44.7M [00:02<00:00, 20.6MB/s]\n"
     ]
    }
   ],
   "source": [
    "# Load pretrained ResNet-34 model\n",
    "#transfer_model = models.resnet34(pretrained=True)\n",
    "transfer_model = models.resnet18(weights=models.ResNet18_Weights.IMAGENET1K_V1)\n",
    "\n"
   ]
  },
  {
   "cell_type": "code",
   "execution_count": 52,
   "id": "6055cd46",
   "metadata": {},
   "outputs": [],
   "source": [
    "# Freeze all layers except the final fully connected layer\n",
    "for param in transfer_model.parameters():\n",
    "    param.requires_grad = False"
   ]
  },
  {
   "cell_type": "code",
   "execution_count": 53,
   "id": "2f56230f",
   "metadata": {},
   "outputs": [],
   "source": [
    "# use the \"fc\" field to get the FINAL fully connected layer in the model\n",
    "num_ftrs = transfer_model.fc.in_features\n",
    "transfer_model.fc = nn.Sequential(\n",
    "    nn.Linear(num_ftrs, 512),  \n",
    "    nn.ReLU(),                \n",
    "    nn.Dropout(0.3),           \n",
    "    nn.Linear(512, 4)          \n",
    ")\n",
    "\n",
    "# Move model to device\n",
    "transfer_model = transfer_model.to(device)"
   ]
  },
  {
   "cell_type": "code",
   "execution_count": 54,
   "id": "059be69a",
   "metadata": {},
   "outputs": [],
   "source": [
    "optimizer = optim.Adam(transfer_model.fc.parameters(), lr=0.001)\n",
    "criterion = nn.CrossEntropyLoss()"
   ]
  },
  {
   "cell_type": "markdown",
   "id": "eaa7eddd",
   "metadata": {},
   "source": [
    "### Train Model"
   ]
  },
  {
   "cell_type": "code",
   "execution_count": 55,
   "id": "a51b0768",
   "metadata": {},
   "outputs": [
    {
     "name": "stdout",
     "output_type": "stream",
     "text": [
      "Starting transfer learning training...\n",
      "Epoch [1/30]\n",
      "Train Loss: 0.8875, Train Accuracy: 62.55%\n",
      "Val Loss: 0.4206, Val Accuracy: 87.78%\n",
      "################################################################################\n",
      "Epoch [2/30]\n",
      "Train Loss: 0.5251, Train Accuracy: 79.02%\n",
      "Val Loss: 0.2644, Val Accuracy: 91.35%\n",
      "################################################################################\n",
      "Epoch [3/30]\n",
      "Train Loss: 0.5256, Train Accuracy: 79.94%\n",
      "Val Loss: 0.3040, Val Accuracy: 89.81%\n",
      "################################################################################\n",
      "Epoch [4/30]\n",
      "Train Loss: 0.5303, Train Accuracy: 78.26%\n",
      "Val Loss: 0.3238, Val Accuracy: 89.32%\n",
      "################################################################################\n",
      "Epoch [5/30]\n",
      "Train Loss: 0.4617, Train Accuracy: 80.70%\n",
      "Val Loss: 0.2750, Val Accuracy: 90.62%\n",
      "################################################################################\n",
      "Epoch [6/30]\n",
      "Train Loss: 0.4407, Train Accuracy: 82.61%\n",
      "Val Loss: 0.2214, Val Accuracy: 92.65%\n",
      "################################################################################\n",
      "Epoch [7/30]\n",
      "Train Loss: 0.4479, Train Accuracy: 82.53%\n",
      "Val Loss: 0.1167, Val Accuracy: 96.01%\n",
      "################################################################################\n",
      "Epoch [8/30]\n",
      "Train Loss: 0.4546, Train Accuracy: 82.30%\n",
      "Val Loss: 0.3835, Val Accuracy: 86.83%\n",
      "################################################################################\n",
      "Epoch [9/30]\n",
      "Train Loss: 0.4029, Train Accuracy: 84.82%\n",
      "Val Loss: 0.2839, Val Accuracy: 90.51%\n",
      "################################################################################\n",
      "Epoch [10/30]\n",
      "Train Loss: 0.4298, Train Accuracy: 83.75%\n",
      "Val Loss: 0.3765, Val Accuracy: 85.33%\n",
      "################################################################################\n",
      "Epoch [11/30]\n",
      "Train Loss: 0.3702, Train Accuracy: 85.89%\n",
      "Val Loss: 0.1706, Val Accuracy: 93.42%\n",
      "################################################################################\n",
      "Epoch [12/30]\n",
      "Train Loss: 0.4106, Train Accuracy: 82.91%\n",
      "Val Loss: 0.2180, Val Accuracy: 92.02%\n",
      "################################################################################\n",
      "Epoch [13/30]\n",
      "Train Loss: 0.3927, Train Accuracy: 84.29%\n",
      "Val Loss: 0.1769, Val Accuracy: 93.31%\n",
      "################################################################################\n",
      "Epoch [14/30]\n",
      "Train Loss: 0.3698, Train Accuracy: 84.90%\n",
      "Val Loss: 0.3556, Val Accuracy: 87.08%\n",
      "################################################################################\n",
      "Early stopping triggered after 14 epochs.\n"
     ]
    }
   ],
   "source": [
    "print(\"Starting transfer learning training...\")\n",
    "\n",
    "history = train_model(transfer_model, train_loader, val_loader, criterion, optimizer, num_epochs=30, name='resnet18')"
   ]
  },
  {
   "cell_type": "code",
   "execution_count": 58,
   "id": "04f06551",
   "metadata": {},
   "outputs": [
    {
     "data": {
      "image/png": "[encoded data removed]",
      "text/plain": [
       "<Figure size 1200x400 with 2 Axes>"
      ]
     },
     "metadata": {},
     "output_type": "display_data"
    }
   ],
   "source": [
    "plot_training_history(history, model_name=\"ResNet18\")"
   ]
  },
  {
   "cell_type": "code",
   "execution_count": null,
   "id": "21fc602b",
   "metadata": {},
   "outputs": [
    {
     "name": "stdout",
     "output_type": "stream",
     "text": [
      "\n",
      "Loading best model for testing...\n",
      "Test Accuracy: 45.73%\n",
      "\n",
      "Classification Report:\n",
      "\n",
      "              precision    recall  f1-score   support\n",
      "\n",
      "   pituitary       0.18      0.98      0.31        60\n",
      "  meningioma       0.00      0.00      0.00         0\n",
      "     notumor       0.72      0.30      0.43      1339\n",
      "      glioma       0.97      0.58      0.72      1457\n",
      "\n",
      "    accuracy                           0.46      2856\n",
      "   macro avg       0.47      0.47      0.37      2856\n",
      "weighted avg       0.84      0.46      0.58      2856\n",
      "\n"
     ]
    },
    {
     "name": "stderr",
     "output_type": "stream",
     "text": [
      "/home/zain13/.local/lib/python3.10/site-packages/sklearn/metrics/_classification.py:1565: UndefinedMetricWarning:\n",
      "\n",
      "Recall is ill-defined and being set to 0.0 in labels with no true samples. Use `zero_division` parameter to control this behavior.\n",
      "\n",
      "/home/zain13/.local/lib/python3.10/site-packages/sklearn/metrics/_classification.py:1565: UndefinedMetricWarning:\n",
      "\n",
      "Recall is ill-defined and being set to 0.0 in labels with no true samples. Use `zero_division` parameter to control this behavior.\n",
      "\n",
      "/home/zain13/.local/lib/python3.10/site-packages/sklearn/metrics/_classification.py:1565: UndefinedMetricWarning:\n",
      "\n",
      "Recall is ill-defined and being set to 0.0 in labels with no true samples. Use `zero_division` parameter to control this behavior.\n",
      "\n"
     ]
    },
    {
     "data": {
      "image/png": "[encoded data removed]",
      "text/plain": [
       "<Figure size 800x600 with 2 Axes>"
      ]
     },
     "metadata": {},
     "output_type": "display_data"
    }
   ],
   "source": [
    "print(\"\\nLoading best model for testing...\")\n",
    "transfer_model.load_state_dict(torch.load('best_brain_tumor_resnet18.pth'))\n",
    "test_model(transfer_model, test_loader)"
   ]
  },
  {
   "cell_type": "code",
   "execution_count": 62,
   "id": "f8fa4e7c",
   "metadata": {},
   "outputs": [
    {
     "ename": "OutOfMemoryError",
     "evalue": "CUDA out of memory. Tried to allocate 98.00 MiB. GPU 0 has a total capacity of 1.83 GiB of which 58.94 MiB is free. Including non-PyTorch memory, this process has 1.76 GiB memory in use. Of the allocated memory 1.53 GiB is allocated by PyTorch, and 150.57 MiB is reserved by PyTorch but unallocated. If reserved but unallocated memory is large try setting PYTORCH_CUDA_ALLOC_CONF=expandable_segments:True to avoid fragmentation.  See documentation for Memory Management  (https://pytorch.org/docs/stable/notes/cuda.html#environment-variables)",
     "output_type": "error",
     "traceback": [
      "\u001b[0;31m---------------------------------------------------------------------------\u001b[0m",
      "\u001b[0;31mOutOfMemoryError\u001b[0m                          Traceback (most recent call last)",
      "Cell \u001b[0;32mIn[62], line 1\u001b[0m\n\u001b[0;32m----> 1\u001b[0m \u001b[43mvisualize_predictions\u001b[49m\u001b[43m(\u001b[49m\u001b[43mtransfer_model\u001b[49m\u001b[43m,\u001b[49m\u001b[43m \u001b[49m\u001b[43mtest_loader\u001b[49m\u001b[43m,\u001b[49m\u001b[43m \u001b[49m\u001b[38;5;241;43m2\u001b[39;49m\u001b[43m)\u001b[49m\n",
      "Cell \u001b[0;32mIn[57], line 13\u001b[0m, in \u001b[0;36mvisualize_predictions\u001b[0;34m(model, test_loader, num_images)\u001b[0m\n\u001b[1;32m     11\u001b[0m \u001b[38;5;28;01mfor\u001b[39;00m images, labels \u001b[38;5;129;01min\u001b[39;00m test_loader:\n\u001b[1;32m     12\u001b[0m     images, labels \u001b[38;5;241m=\u001b[39m images\u001b[38;5;241m.\u001b[39mto(device), labels\u001b[38;5;241m.\u001b[39mto(device)\n\u001b[0;32m---> 13\u001b[0m     outputs \u001b[38;5;241m=\u001b[39m \u001b[43mmodel\u001b[49m\u001b[43m(\u001b[49m\u001b[43mimages\u001b[49m\u001b[43m)\u001b[49m\n\u001b[1;32m     14\u001b[0m     _, predicted \u001b[38;5;241m=\u001b[39m torch\u001b[38;5;241m.\u001b[39mmax(outputs, \u001b[38;5;241m1\u001b[39m)\n\u001b[1;32m     16\u001b[0m     \u001b[38;5;66;03m# Separate correct and incorrect predictions\u001b[39;00m\n",
      "File \u001b[0;32m~/.local/lib/python3.10/site-packages/torch/nn/modules/module.py:1739\u001b[0m, in \u001b[0;36mModule._wrapped_call_impl\u001b[0;34m(self, *args, **kwargs)\u001b[0m\n\u001b[1;32m   1737\u001b[0m     \u001b[38;5;28;01mreturn\u001b[39;00m \u001b[38;5;28mself\u001b[39m\u001b[38;5;241m.\u001b[39m_compiled_call_impl(\u001b[38;5;241m*\u001b[39margs, \u001b[38;5;241m*\u001b[39m\u001b[38;5;241m*\u001b[39mkwargs)  \u001b[38;5;66;03m# type: ignore[misc]\u001b[39;00m\n\u001b[1;32m   1738\u001b[0m \u001b[38;5;28;01melse\u001b[39;00m:\n\u001b[0;32m-> 1739\u001b[0m     \u001b[38;5;28;01mreturn\u001b[39;00m \u001b[38;5;28;43mself\u001b[39;49m\u001b[38;5;241;43m.\u001b[39;49m\u001b[43m_call_impl\u001b[49m\u001b[43m(\u001b[49m\u001b[38;5;241;43m*\u001b[39;49m\u001b[43margs\u001b[49m\u001b[43m,\u001b[49m\u001b[43m \u001b[49m\u001b[38;5;241;43m*\u001b[39;49m\u001b[38;5;241;43m*\u001b[39;49m\u001b[43mkwargs\u001b[49m\u001b[43m)\u001b[49m\n",
      "File \u001b[0;32m~/.local/lib/python3.10/site-packages/torch/nn/modules/module.py:1750\u001b[0m, in \u001b[0;36mModule._call_impl\u001b[0;34m(self, *args, **kwargs)\u001b[0m\n\u001b[1;32m   1745\u001b[0m \u001b[38;5;66;03m# If we don't have any hooks, we want to skip the rest of the logic in\u001b[39;00m\n\u001b[1;32m   1746\u001b[0m \u001b[38;5;66;03m# this function, and just call forward.\u001b[39;00m\n\u001b[1;32m   1747\u001b[0m \u001b[38;5;28;01mif\u001b[39;00m \u001b[38;5;129;01mnot\u001b[39;00m (\u001b[38;5;28mself\u001b[39m\u001b[38;5;241m.\u001b[39m_backward_hooks \u001b[38;5;129;01mor\u001b[39;00m \u001b[38;5;28mself\u001b[39m\u001b[38;5;241m.\u001b[39m_backward_pre_hooks \u001b[38;5;129;01mor\u001b[39;00m \u001b[38;5;28mself\u001b[39m\u001b[38;5;241m.\u001b[39m_forward_hooks \u001b[38;5;129;01mor\u001b[39;00m \u001b[38;5;28mself\u001b[39m\u001b[38;5;241m.\u001b[39m_forward_pre_hooks\n\u001b[1;32m   1748\u001b[0m         \u001b[38;5;129;01mor\u001b[39;00m _global_backward_pre_hooks \u001b[38;5;129;01mor\u001b[39;00m _global_backward_hooks\n\u001b[1;32m   1749\u001b[0m         \u001b[38;5;129;01mor\u001b[39;00m _global_forward_hooks \u001b[38;5;129;01mor\u001b[39;00m _global_forward_pre_hooks):\n\u001b[0;32m-> 1750\u001b[0m     \u001b[38;5;28;01mreturn\u001b[39;00m \u001b[43mforward_call\u001b[49m\u001b[43m(\u001b[49m\u001b[38;5;241;43m*\u001b[39;49m\u001b[43margs\u001b[49m\u001b[43m,\u001b[49m\u001b[43m \u001b[49m\u001b[38;5;241;43m*\u001b[39;49m\u001b[38;5;241;43m*\u001b[39;49m\u001b[43mkwargs\u001b[49m\u001b[43m)\u001b[49m\n\u001b[1;32m   1752\u001b[0m result \u001b[38;5;241m=\u001b[39m \u001b[38;5;28;01mNone\u001b[39;00m\n\u001b[1;32m   1753\u001b[0m called_always_called_hooks \u001b[38;5;241m=\u001b[39m \u001b[38;5;28mset\u001b[39m()\n",
      "File \u001b[0;32m~/.local/lib/python3.10/site-packages/torchvision/models/resnet.py:285\u001b[0m, in \u001b[0;36mResNet.forward\u001b[0;34m(self, x)\u001b[0m\n\u001b[1;32m    284\u001b[0m \u001b[38;5;28;01mdef\u001b[39;00m \u001b[38;5;21mforward\u001b[39m(\u001b[38;5;28mself\u001b[39m, x: Tensor) \u001b[38;5;241m-\u001b[39m\u001b[38;5;241m>\u001b[39m Tensor:\n\u001b[0;32m--> 285\u001b[0m     \u001b[38;5;28;01mreturn\u001b[39;00m \u001b[38;5;28;43mself\u001b[39;49m\u001b[38;5;241;43m.\u001b[39;49m\u001b[43m_forward_impl\u001b[49m\u001b[43m(\u001b[49m\u001b[43mx\u001b[49m\u001b[43m)\u001b[49m\n",
      "File \u001b[0;32m~/.local/lib/python3.10/site-packages/torchvision/models/resnet.py:268\u001b[0m, in \u001b[0;36mResNet._forward_impl\u001b[0;34m(self, x)\u001b[0m\n\u001b[1;32m    266\u001b[0m \u001b[38;5;28;01mdef\u001b[39;00m \u001b[38;5;21m_forward_impl\u001b[39m(\u001b[38;5;28mself\u001b[39m, x: Tensor) \u001b[38;5;241m-\u001b[39m\u001b[38;5;241m>\u001b[39m Tensor:\n\u001b[1;32m    267\u001b[0m     \u001b[38;5;66;03m# See note [TorchScript super()]\u001b[39;00m\n\u001b[0;32m--> 268\u001b[0m     x \u001b[38;5;241m=\u001b[39m \u001b[38;5;28;43mself\u001b[39;49m\u001b[38;5;241;43m.\u001b[39;49m\u001b[43mconv1\u001b[49m\u001b[43m(\u001b[49m\u001b[43mx\u001b[49m\u001b[43m)\u001b[49m\n\u001b[1;32m    269\u001b[0m     x \u001b[38;5;241m=\u001b[39m \u001b[38;5;28mself\u001b[39m\u001b[38;5;241m.\u001b[39mbn1(x)\n\u001b[1;32m    270\u001b[0m     x \u001b[38;5;241m=\u001b[39m \u001b[38;5;28mself\u001b[39m\u001b[38;5;241m.\u001b[39mrelu(x)\n",
      "File \u001b[0;32m~/.local/lib/python3.10/site-packages/torch/nn/modules/module.py:1739\u001b[0m, in \u001b[0;36mModule._wrapped_call_impl\u001b[0;34m(self, *args, **kwargs)\u001b[0m\n\u001b[1;32m   1737\u001b[0m     \u001b[38;5;28;01mreturn\u001b[39;00m \u001b[38;5;28mself\u001b[39m\u001b[38;5;241m.\u001b[39m_compiled_call_impl(\u001b[38;5;241m*\u001b[39margs, \u001b[38;5;241m*\u001b[39m\u001b[38;5;241m*\u001b[39mkwargs)  \u001b[38;5;66;03m# type: ignore[misc]\u001b[39;00m\n\u001b[1;32m   1738\u001b[0m \u001b[38;5;28;01melse\u001b[39;00m:\n\u001b[0;32m-> 1739\u001b[0m     \u001b[38;5;28;01mreturn\u001b[39;00m \u001b[38;5;28;43mself\u001b[39;49m\u001b[38;5;241;43m.\u001b[39;49m\u001b[43m_call_impl\u001b[49m\u001b[43m(\u001b[49m\u001b[38;5;241;43m*\u001b[39;49m\u001b[43margs\u001b[49m\u001b[43m,\u001b[49m\u001b[43m \u001b[49m\u001b[38;5;241;43m*\u001b[39;49m\u001b[38;5;241;43m*\u001b[39;49m\u001b[43mkwargs\u001b[49m\u001b[43m)\u001b[49m\n",
      "File \u001b[0;32m~/.local/lib/python3.10/site-packages/torch/nn/modules/module.py:1750\u001b[0m, in \u001b[0;36mModule._call_impl\u001b[0;34m(self, *args, **kwargs)\u001b[0m\n\u001b[1;32m   1745\u001b[0m \u001b[38;5;66;03m# If we don't have any hooks, we want to skip the rest of the logic in\u001b[39;00m\n\u001b[1;32m   1746\u001b[0m \u001b[38;5;66;03m# this function, and just call forward.\u001b[39;00m\n\u001b[1;32m   1747\u001b[0m \u001b[38;5;28;01mif\u001b[39;00m \u001b[38;5;129;01mnot\u001b[39;00m (\u001b[38;5;28mself\u001b[39m\u001b[38;5;241m.\u001b[39m_backward_hooks \u001b[38;5;129;01mor\u001b[39;00m \u001b[38;5;28mself\u001b[39m\u001b[38;5;241m.\u001b[39m_backward_pre_hooks \u001b[38;5;129;01mor\u001b[39;00m \u001b[38;5;28mself\u001b[39m\u001b[38;5;241m.\u001b[39m_forward_hooks \u001b[38;5;129;01mor\u001b[39;00m \u001b[38;5;28mself\u001b[39m\u001b[38;5;241m.\u001b[39m_forward_pre_hooks\n\u001b[1;32m   1748\u001b[0m         \u001b[38;5;129;01mor\u001b[39;00m _global_backward_pre_hooks \u001b[38;5;129;01mor\u001b[39;00m _global_backward_hooks\n\u001b[1;32m   1749\u001b[0m         \u001b[38;5;129;01mor\u001b[39;00m _global_forward_hooks \u001b[38;5;129;01mor\u001b[39;00m _global_forward_pre_hooks):\n\u001b[0;32m-> 1750\u001b[0m     \u001b[38;5;28;01mreturn\u001b[39;00m \u001b[43mforward_call\u001b[49m\u001b[43m(\u001b[49m\u001b[38;5;241;43m*\u001b[39;49m\u001b[43margs\u001b[49m\u001b[43m,\u001b[49m\u001b[43m \u001b[49m\u001b[38;5;241;43m*\u001b[39;49m\u001b[38;5;241;43m*\u001b[39;49m\u001b[43mkwargs\u001b[49m\u001b[43m)\u001b[49m\n\u001b[1;32m   1752\u001b[0m result \u001b[38;5;241m=\u001b[39m \u001b[38;5;28;01mNone\u001b[39;00m\n\u001b[1;32m   1753\u001b[0m called_always_called_hooks \u001b[38;5;241m=\u001b[39m \u001b[38;5;28mset\u001b[39m()\n",
      "File \u001b[0;32m~/.local/lib/python3.10/site-packages/torch/nn/modules/conv.py:554\u001b[0m, in \u001b[0;36mConv2d.forward\u001b[0;34m(self, input)\u001b[0m\n\u001b[1;32m    553\u001b[0m \u001b[38;5;28;01mdef\u001b[39;00m \u001b[38;5;21mforward\u001b[39m(\u001b[38;5;28mself\u001b[39m, \u001b[38;5;28minput\u001b[39m: Tensor) \u001b[38;5;241m-\u001b[39m\u001b[38;5;241m>\u001b[39m Tensor:\n\u001b[0;32m--> 554\u001b[0m     \u001b[38;5;28;01mreturn\u001b[39;00m \u001b[38;5;28;43mself\u001b[39;49m\u001b[38;5;241;43m.\u001b[39;49m\u001b[43m_conv_forward\u001b[49m\u001b[43m(\u001b[49m\u001b[38;5;28;43minput\u001b[39;49m\u001b[43m,\u001b[49m\u001b[43m \u001b[49m\u001b[38;5;28;43mself\u001b[39;49m\u001b[38;5;241;43m.\u001b[39;49m\u001b[43mweight\u001b[49m\u001b[43m,\u001b[49m\u001b[43m \u001b[49m\u001b[38;5;28;43mself\u001b[39;49m\u001b[38;5;241;43m.\u001b[39;49m\u001b[43mbias\u001b[49m\u001b[43m)\u001b[49m\n",
      "File \u001b[0;32m~/.local/lib/python3.10/site-packages/torch/nn/modules/conv.py:549\u001b[0m, in \u001b[0;36mConv2d._conv_forward\u001b[0;34m(self, input, weight, bias)\u001b[0m\n\u001b[1;32m    537\u001b[0m \u001b[38;5;28;01mif\u001b[39;00m \u001b[38;5;28mself\u001b[39m\u001b[38;5;241m.\u001b[39mpadding_mode \u001b[38;5;241m!=\u001b[39m \u001b[38;5;124m\"\u001b[39m\u001b[38;5;124mzeros\u001b[39m\u001b[38;5;124m\"\u001b[39m:\n\u001b[1;32m    538\u001b[0m     \u001b[38;5;28;01mreturn\u001b[39;00m F\u001b[38;5;241m.\u001b[39mconv2d(\n\u001b[1;32m    539\u001b[0m         F\u001b[38;5;241m.\u001b[39mpad(\n\u001b[1;32m    540\u001b[0m             \u001b[38;5;28minput\u001b[39m, \u001b[38;5;28mself\u001b[39m\u001b[38;5;241m.\u001b[39m_reversed_padding_repeated_twice, mode\u001b[38;5;241m=\u001b[39m\u001b[38;5;28mself\u001b[39m\u001b[38;5;241m.\u001b[39mpadding_mode\n\u001b[0;32m   (...)\u001b[0m\n\u001b[1;32m    547\u001b[0m         \u001b[38;5;28mself\u001b[39m\u001b[38;5;241m.\u001b[39mgroups,\n\u001b[1;32m    548\u001b[0m     )\n\u001b[0;32m--> 549\u001b[0m \u001b[38;5;28;01mreturn\u001b[39;00m \u001b[43mF\u001b[49m\u001b[38;5;241;43m.\u001b[39;49m\u001b[43mconv2d\u001b[49m\u001b[43m(\u001b[49m\n\u001b[1;32m    550\u001b[0m \u001b[43m    \u001b[49m\u001b[38;5;28;43minput\u001b[39;49m\u001b[43m,\u001b[49m\u001b[43m \u001b[49m\u001b[43mweight\u001b[49m\u001b[43m,\u001b[49m\u001b[43m \u001b[49m\u001b[43mbias\u001b[49m\u001b[43m,\u001b[49m\u001b[43m \u001b[49m\u001b[38;5;28;43mself\u001b[39;49m\u001b[38;5;241;43m.\u001b[39;49m\u001b[43mstride\u001b[49m\u001b[43m,\u001b[49m\u001b[43m \u001b[49m\u001b[38;5;28;43mself\u001b[39;49m\u001b[38;5;241;43m.\u001b[39;49m\u001b[43mpadding\u001b[49m\u001b[43m,\u001b[49m\u001b[43m \u001b[49m\u001b[38;5;28;43mself\u001b[39;49m\u001b[38;5;241;43m.\u001b[39;49m\u001b[43mdilation\u001b[49m\u001b[43m,\u001b[49m\u001b[43m \u001b[49m\u001b[38;5;28;43mself\u001b[39;49m\u001b[38;5;241;43m.\u001b[39;49m\u001b[43mgroups\u001b[49m\n\u001b[1;32m    551\u001b[0m \u001b[43m\u001b[49m\u001b[43m)\u001b[49m\n",
      "\u001b[0;31mOutOfMemoryError\u001b[0m: CUDA out of memory. Tried to allocate 98.00 MiB. GPU 0 has a total capacity of 1.83 GiB of which 58.94 MiB is free. Including non-PyTorch memory, this process has 1.76 GiB memory in use. Of the allocated memory 1.53 GiB is allocated by PyTorch, and 150.57 MiB is reserved by PyTorch but unallocated. If reserved but unallocated memory is large try setting PYTORCH_CUDA_ALLOC_CONF=expandable_segments:True to avoid fragmentation.  See documentation for Memory Management  (https://pytorch.org/docs/stable/notes/cuda.html#environment-variables)"
     ]
    }
   ],
   "source": [
    "visualize_predictions(transfer_model, test_loader, 2)"
   ]
  },
  {
   "cell_type": "markdown",
   "id": "cd191567",
   "metadata": {},
   "source": [
    "## Gradient Visualization"
   ]
  },
  {
   "cell_type": "code",
   "execution_count": null,
   "id": "1f54f142",
   "metadata": {},
   "outputs": [],
   "source": []
  }
 ],
 "metadata": {
  "kernelspec": {
   "display_name": "Python 3",
   "language": "python",
   "name": "python3"
  },
  "language_info": {
   "codemirror_mode": {
    "name": "ipython",
    "version": 3
   },
   "file_extension": ".py",
   "mimetype": "text/x-python",
   "name": "python",
   "nbconvert_exporter": "python",
   "pygments_lexer": "ipython3",
   "version": "3.10.12"
  }
 },
 "nbformat": 4,
 "nbformat_minor": 5
}
